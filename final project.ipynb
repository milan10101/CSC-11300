{
 "cells": [
  {
   "cell_type": "code",
   "execution_count": 23,
   "id": "a526626a",
   "metadata": {},
   "outputs": [],
   "source": [
    "#Milan Thapa"
   ]
  },
  {
   "cell_type": "code",
   "execution_count": null,
   "id": "23acd369",
   "metadata": {},
   "outputs": [],
   "source": [
    "#Final Project"
   ]
  },
  {
   "cell_type": "code",
   "execution_count": 6,
   "id": "bb79eb23",
   "metadata": {},
   "outputs": [],
   "source": [
    "from mpi4py import MPI"
   ]
  },
  {
   "cell_type": "code",
   "execution_count": 7,
   "id": "fae15af0",
   "metadata": {},
   "outputs": [],
   "source": [
    "import time"
   ]
  },
  {
   "cell_type": "code",
   "execution_count": null,
   "id": "cb58534d",
   "metadata": {},
   "outputs": [],
   "source": [
    "# we will create a function to accept a filename as input and split it into a list of words.\n",
    "#we will return the split words "
   ]
  },
  {
   "cell_type": "code",
   "execution_count": 18,
   "id": "a909515f",
   "metadata": {},
   "outputs": [],
   "source": [
    "def read_file(filename):\n",
    "    with open(filename, 'r') as fil:\n",
    "        text = fil.read()\n",
    "    split_words = text.split()\n",
    "    return split_words"
   ]
  },
  {
   "cell_type": "code",
   "execution_count": null,
   "id": "65f36f23",
   "metadata": {},
   "outputs": [],
   "source": [
    "#Now we will count the frequency of each words from the split words"
   ]
  },
  {
   "cell_type": "code",
   "execution_count": 19,
   "id": "1dc8b68c",
   "metadata": {},
   "outputs": [],
   "source": [
    "def words_frequency(split_words):\n",
    "    word_freq = {}\n",
    "    for word in split_words:\n",
    "        if word in word_freq:\n",
    "            word_freq[word] += 1\n",
    "        else:\n",
    "            word_freq[word] = 1\n",
    "    return word_freq"
   ]
  },
  {
   "cell_type": "code",
   "execution_count": null,
   "id": "686f0dce",
   "metadata": {},
   "outputs": [],
   "source": [
    "#we export all the word counts to a txt file "
   ]
  },
  {
   "cell_type": "code",
   "execution_count": 20,
   "id": "8df1512e",
   "metadata": {},
   "outputs": [],
   "source": [
    "def output_file(word_freq, filename):\n",
    "    with open(filename, 'w') as fil:\n",
    "        for word, count in word_freq.items():\n",
    "            fil.write(f'{word}: {count}\\n')"
   ]
  },
  {
   "cell_type": "code",
   "execution_count": null,
   "id": "38187b98",
   "metadata": {},
   "outputs": [],
   "source": [
    "#after defining all the functions, we will now write the main "
   ]
  },
  {
   "cell_type": "code",
   "execution_count": 29,
   "id": "cd46e32b",
   "metadata": {},
   "outputs": [],
   "source": [
    "def main():\n",
    "    #to group the processes when the program starts\n",
    "    comm = MPI.COMM_WORLD\n",
    "    #to distinguish eavch process from one another\n",
    "    rank = comm.Get_rank()\n",
    "    #to insure that the process in in range, we use the size function\n",
    "    size = comm.Get_size()\n",
    "\n",
    "    # we call the function that we defined to read the file and split it in words\n",
    "    #the function returns the split words\n",
    "    split_words = read_file('ebook.txt')\n",
    "\n",
    "    # Now we divide the split words into equal chunks for the processes\n",
    "    chunk_Size = len(split_words) // size\n",
    "    start = rank * chunk_Size\n",
    "    end = start + chunk_Size\n",
    "    chunk = split_words[start:end]\n",
    "\n",
    "    # now we count the frequency by calling the function we defined words_frequency and store it to chunk_frequency\n",
    "    chunk_frequency = words_frequency(chunk)\n",
    "\n",
    "    # Now we merge back all the final result from the processes\n",
    "    final_result = comm.reduce(chunk_frequency, op=MPI.SUM, root=0)\n",
    "\n",
    "    # now we output the final results\n",
    "    if rank == 0:\n",
    "        output_file(final_result, 'result_after_count.txt')\n"
   ]
  },
  {
   "cell_type": "code",
   "execution_count": 30,
   "id": "7c06c306",
   "metadata": {},
   "outputs": [],
   "source": [
    "#Now finally we will run it multiple times and note the time taken with different threads"
   ]
  },
  {
   "cell_type": "code",
   "execution_count": 31,
   "id": "0d0f6900",
   "metadata": {},
   "outputs": [
    {
     "name": "stdout",
     "output_type": "stream",
     "text": [
      "Total time with 1 threads: 0.00 sec\n",
      "Total time with 2 threads: 0.00 sec\n",
      "Total time with 3 threads: 0.00 sec\n",
      "Total time with 4 threads: 0.00 sec\n",
      "Total time with 5 threads: 0.00 sec\n",
      "Total time with 6 threads: 0.00 sec\n",
      "Total time with 7 threads: 0.00 sec\n",
      "Total time with 8 threads: 0.00 sec\n",
      "Total time with 9 threads: 0.00 sec\n"
     ]
    }
   ],
   "source": [
    "if __name__ == '__main__':\n",
    "    for i in range(1, 10):\n",
    "        start = time.time()\n",
    "        main()\n",
    "        end = time.time()\n",
    "        print(f'Total time with {i} threads: {end_time - start_time:.2f} sec')"
   ]
  },
  {
   "cell_type": "code",
   "execution_count": null,
   "id": "acb053c6",
   "metadata": {},
   "outputs": [],
   "source": []
  },
  {
   "cell_type": "code",
   "execution_count": null,
   "id": "6912d929",
   "metadata": {},
   "outputs": [],
   "source": []
  },
  {
   "cell_type": "code",
   "execution_count": null,
   "id": "b5f313ad",
   "metadata": {},
   "outputs": [],
   "source": []
  },
  {
   "cell_type": "code",
   "execution_count": null,
   "id": "2eebe386",
   "metadata": {},
   "outputs": [],
   "source": []
  },
  {
   "cell_type": "code",
   "execution_count": null,
   "id": "745d5e7a",
   "metadata": {},
   "outputs": [],
   "source": []
  },
  {
   "cell_type": "code",
   "execution_count": null,
   "id": "f3d7695a",
   "metadata": {},
   "outputs": [],
   "source": []
  }
 ],
 "metadata": {
  "kernelspec": {
   "display_name": "Python 3 (ipykernel)",
   "language": "python",
   "name": "python3"
  },
  "language_info": {
   "codemirror_mode": {
    "name": "ipython",
    "version": 3
   },
   "file_extension": ".py",
   "mimetype": "text/x-python",
   "name": "python",
   "nbconvert_exporter": "python",
   "pygments_lexer": "ipython3",
   "version": "3.9.15"
  }
 },
 "nbformat": 4,
 "nbformat_minor": 5
}
